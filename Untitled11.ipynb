{
  "nbformat": 4,
  "nbformat_minor": 0,
  "metadata": {
    "colab": {
      "name": "Untitled11.ipynb",
      "provenance": [],
      "collapsed_sections": [],
      "authorship_tag": "ABX9TyNr+9k0+ES19Icj3WbipLli",
      "include_colab_link": true
    },
    "kernelspec": {
      "name": "python3",
      "display_name": "Python 3"
    },
    "language_info": {
      "name": "python"
    }
  },
  "cells": [
    {
      "cell_type": "markdown",
      "metadata": {
        "id": "view-in-github",
        "colab_type": "text"
      },
      "source": [
        "<a href=\"https://colab.research.google.com/github/VerenaRal/Atividade/blob/master/Untitled11.ipynb\" target=\"_parent\"><img src=\"https://colab.research.google.com/assets/colab-badge.svg\" alt=\"Open In Colab\"/></a>"
      ]
    },
    {
      "cell_type": "code",
      "metadata": {
        "colab": {
          "base_uri": "https://localhost:8080/"
        },
        "id": "RPEqzVgv_ZJf",
        "outputId": "b13ee014-7880-4f2d-eba8-aad3e6044eae"
      },
      "source": [
        "Aluno = {}\n",
        "\n",
        "contador = 0\n",
        "while (contador < 4):\n",
        "    nome = input(\"Digite o nome do aluno: \")\n",
        "    nota = float(input(\"Digite a nota dele(a): \"))\n",
        "    idade = float(input(\"Digite a idade dele(a): \"))\n",
        "    Aluno[nome] = nota,idade\n",
        "    print(contador)\n",
        "    soma=0\n",
        "    for i in nome:\n",
        "        if i!=\"\":\n",
        "            print(\"A letra eh: \",i,\"e o Asc eh: \",ord(i))\n",
        "            soma=soma+ord(i)\n",
        "            print(int(soma))\n",
        "            hashing = soma%5\n",
        "            \n",
        "            \n",
        "    contador   = contador + 1\n",
        "    print(\"O valor do Hashing deu: \",hashing)\n",
        "    print(\"\\n\")\n",
        "\n",
        "print(Aluno)\n"
      ],
      "execution_count": 33,
      "outputs": [
        {
          "output_type": "stream",
          "name": "stdout",
          "text": [
            "Digite o nome do aluno: Ana\n",
            "Digite a nota dele(a): 4\n",
            "Digite a idade dele(a): 21\n",
            "0\n",
            "A letra eh:  A e o Asc eh:  65\n",
            "65\n",
            "A letra eh:  n e o Asc eh:  110\n",
            "175\n",
            "A letra eh:  a e o Asc eh:  97\n",
            "272\n",
            "O valor do Hashing deu:  2\n",
            "\n",
            "\n",
            "Digite o nome do aluno: Junior\n",
            "Digite a nota dele(a): 3\n",
            "Digite a idade dele(a): 19\n",
            "1\n",
            "A letra eh:  J e o Asc eh:  74\n",
            "74\n",
            "A letra eh:  u e o Asc eh:  117\n",
            "191\n",
            "A letra eh:  n e o Asc eh:  110\n",
            "301\n",
            "A letra eh:  i e o Asc eh:  105\n",
            "406\n",
            "A letra eh:  o e o Asc eh:  111\n",
            "517\n",
            "A letra eh:  r e o Asc eh:  114\n",
            "631\n",
            "O valor do Hashing deu:  1\n",
            "\n",
            "\n",
            "Digite o nome do aluno: Joao\n",
            "Digite a nota dele(a): 6\n",
            "Digite a idade dele(a): 22\n",
            "2\n",
            "A letra eh:  J e o Asc eh:  74\n",
            "74\n",
            "A letra eh:  o e o Asc eh:  111\n",
            "185\n",
            "A letra eh:  a e o Asc eh:  97\n",
            "282\n",
            "A letra eh:  o e o Asc eh:  111\n",
            "393\n",
            "O valor do Hashing deu:  3\n",
            "\n",
            "\n",
            "Digite o nome do aluno: Jessica\n",
            "Digite a nota dele(a): 10\n",
            "Digite a idade dele(a): 21\n",
            "3\n",
            "A letra eh:  J e o Asc eh:  74\n",
            "74\n",
            "A letra eh:  e e o Asc eh:  101\n",
            "175\n",
            "A letra eh:  s e o Asc eh:  115\n",
            "290\n",
            "A letra eh:  s e o Asc eh:  115\n",
            "405\n",
            "A letra eh:  i e o Asc eh:  105\n",
            "510\n",
            "A letra eh:  c e o Asc eh:  99\n",
            "609\n",
            "A letra eh:  a e o Asc eh:  97\n",
            "706\n",
            "O valor do Hashing deu:  1\n",
            "\n",
            "\n",
            "{'Ana': (4.0, 21.0), 'Junior': (3.0, 19.0), 'Joao': (6.0, 22.0), 'Jessica': (10.0, 21.0)}\n"
          ]
        }
      ]
    },
    {
      "cell_type": "code",
      "metadata": {
        "colab": {
          "base_uri": "https://localhost:8080/"
        },
        "id": "Fh1zpc9SBmHv",
        "outputId": "269c51fa-1235-4b00-b754-71dd03aeb995"
      },
      "source": [
        "import pandas as pd\n",
        "import numpy as np\n",
        "\n",
        "\n",
        "df=pd.DataFrame(Aluno)\n",
        "\n",
        "print(df)\n",
        "type(df.columns)\n"
      ],
      "execution_count": 45,
      "outputs": [
        {
          "output_type": "stream",
          "name": "stdout",
          "text": [
            "    Ana  Junior  Joao  Jessica\n",
            "0   4.0     3.0   6.0     10.0\n",
            "1  21.0    19.0  22.0     21.0\n"
          ]
        },
        {
          "output_type": "execute_result",
          "data": {
            "text/plain": [
              "pandas.core.indexes.base.Index"
            ]
          },
          "metadata": {},
          "execution_count": 45
        }
      ]
    }
  ]
}